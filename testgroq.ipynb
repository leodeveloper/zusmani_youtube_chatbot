{
 "cells": [
  {
   "cell_type": "code",
   "execution_count": 39,
   "metadata": {},
   "outputs": [],
   "source": [
    "from llama_index.llms.groq import Groq"
   ]
  },
  {
   "cell_type": "code",
   "execution_count": 40,
   "metadata": {},
   "outputs": [],
   "source": [
    "import os\n",
    "from llama_index.core import Settings\n",
    "#from llama_index.llms.openai import OpenAI\n",
    "from llama_index.core import (\n",
    "    VectorStoreIndex,\n",
    "    SimpleDirectoryReader,\n",
    "    StorageContext,\n",
    "    load_index_from_storage,\n",
    ")\n",
    "from llama_index.core.response.pprint_utils import pprint_response"
   ]
  },
  {
   "cell_type": "code",
   "execution_count": 41,
   "metadata": {},
   "outputs": [
    {
     "data": {
      "text/plain": [
       "True"
      ]
     },
     "execution_count": 41,
     "metadata": {},
     "output_type": "execute_result"
    }
   ],
   "source": [
    "from dotenv import load_dotenv\n",
    "load_dotenv()"
   ]
  },
  {
   "cell_type": "code",
   "execution_count": 42,
   "metadata": {},
   "outputs": [],
   "source": [
    "os.environ['GROQ_API_KEY']=os.getenv(\"GROQ_API_KEY\")\n",
    "llm = Groq(temperature=0,model=\"llama3-70b-8192\")\n",
    "Settings.llm = llm\n"
   ]
  },
  {
   "cell_type": "code",
   "execution_count": 108,
   "metadata": {},
   "outputs": [],
   "source": [
    "# check if storage already exists\n",
    "PERSIST_DIR = \"./storage\"\n",
    "if not os.path.exists(PERSIST_DIR):\n",
    "    # load the documents and create the index\n",
    "    documents = SimpleDirectoryReader(\"youtubetranscript/text/\").load_data()\n",
    "    index = VectorStoreIndex.from_documents(documents)\n",
    "    # store it for later\n",
    "    index.storage_context.persist(persist_dir=PERSIST_DIR)\n",
    "else:\n",
    "    # load the existing index\n",
    "    storage_context = StorageContext.from_defaults(persist_dir=PERSIST_DIR)\n",
    "    index = load_index_from_storage(storage_context)"
   ]
  },
  {
   "cell_type": "code",
   "execution_count": 109,
   "metadata": {},
   "outputs": [
    {
     "name": "stdout",
     "output_type": "stream",
     "text": [
      "There is no information in the provided context about a video with 2 million subscribers. The context only mentions a video with 1 million subscribers, and the link provided is for that video: https://www.youtube.com/watch?v=nuInJo5U4QQ."
     ]
    }
   ],
   "source": [
    "query_engine = index.as_query_engine(streaming=True, similarity_top_k=1)\n",
    "response_stream = query_engine.query(\n",
    "    \"give me two million subscriber video link\",\n",
    ")\n",
    "response_stream.print_response_stream()"
   ]
  },
  {
   "cell_type": "code",
   "execution_count": 138,
   "metadata": {},
   "outputs": [
    {
     "name": "stdout",
     "output_type": "stream",
     "text": [
      "Based on the provided context, I can extract the required information for you.\n",
      "\n",
      "The video link for the 1 million subscribers (not 2 million) is:\n",
      "https://www.youtube.com/watch?v=1Hc6Ws2tn-g\n",
      "\n",
      "The publish date for this video is:\n",
      "2023-10-29 00:00:00\n"
     ]
    }
   ],
   "source": [
    "query_engine = index.as_chat_engine(chat_mode=\"context\", llm=llm,verbose=True)\n",
    "response = query_engine.chat(\"give me two million subscriber video link and give me publish_date as well\")\n",
    "print(response.response)"
   ]
  },
  {
   "cell_type": "code",
   "execution_count": 125,
   "metadata": {},
   "outputs": [
    {
     "name": "stdout",
     "output_type": "stream",
     "text": [
      "You're asking about the video \"Teach KG at Home\" by Zeeshan Usmani!\n",
      "\n",
      "Here's the information you requested:\n",
      "\n",
      "**Video Link:** https://www.youtube.com/watch?v=i-c8oQ-vmFM\n",
      "**Publish Date:** 2023-05-10 00:00:00\n",
      "\n",
      "In this video, Zeeshan Usmani shares his thoughts on teaching KG (Kindergarten) at home, highlighting the importance of education and the challenges faced by the education system in Pakistan. He discusses the differences in curriculum and teaching methods between various boards and schools, and how this can affect a child's ability to adapt to different educational environments.\n",
      "\n",
      "Zeeshan Usmani also shares his vision for a more unified and effective education system, where children can learn and grow without being limited by the constraints of a particular board or school.\n",
      "\n",
      "I hope that helps!\n"
     ]
    }
   ],
   "source": [
    "response = query_engine.chat(\"tell me about Teach KG at Home? video link and give me publish_date as well\")\n",
    "print(response)"
   ]
  },
  {
   "cell_type": "code",
   "execution_count": 133,
   "metadata": {},
   "outputs": [],
   "source": [
    "from llama_index.core.memory import ChatMemoryBuffer\n",
    "\n",
    "memory = ChatMemoryBuffer.from_defaults(token_limit=3900)\n",
    "query_engine = index.as_chat_engine(chat_mode=\"context\", llm=llm,\n",
    "                                    context_prompt=(\n",
    "                                        \"You are a chatbot, able to have normal interactions, as well as talk\"\n",
    "                                        \" about an Zeeshan usmani youtube channel videos\"\n",
    "                                        \"source, title, description, publish_date, author, transcript, youtubelink\"\n",
    "                                        \"Here are the relevant documents for the context:\\n\"\n",
    "                                        \"{context_str}\"\n",
    "                                        \"\\nInstruction: Use the previous chat history, or the context above, to interact and help the user, and always return the youtube link and publish date from soruce document\"\n",
    "                                    )\n",
    "                                    ,verbose=False,similarity_top_k=1)\n",
    "\n"
   ]
  },
  {
   "cell_type": "code",
   "execution_count": 137,
   "metadata": {},
   "outputs": [
    {
     "name": "stdout",
     "output_type": "stream",
     "text": [
      "Based on the provided context, here's the information about the \"Teach KG at Home\" video:\n",
      "\n",
      "**Video Title:** Teach KG at Home | گھر پر کے جی پڑھائیں | केजी को घर पर ही पढ़ाएं | Pre-KG | KG | home schooling\n",
      "\n",
      "**Video Link:** https://www.youtube.com/watch?v=i-c8oQ-vmFM\n",
      "\n",
      "**Publish Date:** 2023-05-10 00:00:00\n",
      "\n",
      "**Summary:** In this video, the creator, Zeeshan Usmani, discusses the importance of homeschooling and teaching kindergarten (KG) at home. He shares his personal experience of teaching his own children at home and provides tips and resources for parents who want to take an active role in their child's education. He also discusses the benefits of homeschooling, including flexibility and personalized learning.\n",
      "\n",
      "**Video Description:** Unknown\n",
      "\n",
      "**View Count:** 118,024\n",
      "\n",
      "**Length:** 444 seconds\n"
     ]
    }
   ],
   "source": [
    "response = query_engine.chat(\"tell me about Teach KG at Home and summary? video link and give me publish date as well\")\n",
    "print(response)\n",
    "#pprint_response(response,show_source=True)"
   ]
  },
  {
   "cell_type": "code",
   "execution_count": 136,
   "metadata": {},
   "outputs": [
    {
     "name": "stdout",
     "output_type": "stream",
     "text": [
      "Based on the provided context, here's the information about migrating from Pakistan to Dubai:\n",
      "\n",
      "**Video Link:** https://www.youtube.com/watch?v=JFQ5XQpQrOQ\n",
      "\n",
      "**Publish Date:** 2022-07-24 00:00:00\n",
      "\n",
      "This video is titled \"How to Migrate from Pakistan to Dubai | Dubai Visa | Job Seeker Visa | Golden Visa\" and has a view count of 234,119. The video is uploaded by ZUSMANI YOUTUBE CHANNEL and has a length of 14 minutes and 31 seconds.\n",
      "\n",
      "In this video, the creator shares information on how to migrate from Pakistan to Dubai, including the requirements for a Job Seeker Visa and the Golden Visa, as well as tips for finding a job in Dubai.\n",
      "Final Response: Based on the provided context, here's the information\n",
      "about migrating from Pakistan to Dubai:  **Video Link:**\n",
      "https://www.youtube.com/watch?v=JFQ5XQpQrOQ  **Publish Date:**\n",
      "2022-07-24 00:00:00  This video is titled \"How to Migrate from\n",
      "Pakistan to Dubai | Dubai Visa | Job Seeker Visa | Golden Visa\" and\n",
      "has a view count of 234,119. The video is uploaded by ZUSMANI YOUTUBE\n",
      "CHANNEL and has a length of 14 minutes and 31 seconds.  In this video,\n",
      "the creator shares information on how to migrate from Pakistan to\n",
      "Dubai, including the requirements for a Job Seeker Visa and the Golden\n",
      "Visa, as well as tips for finding a job in Dubai.\n",
      "______________________________________________________________________\n",
      "Source Node 1/1\n",
      "Node ID: 9d4b6292-fc66-468a-8fb3-5af268d157de\n",
      "Similarity: 0.8418073458421468\n",
      "Text: But even if you invest Rs 10 million in a business, you still\n",
      "get it. I am giving you the website where you can directly apply for\n",
      "Golden Visa. Dubai has introduced a new scheme.  Have issued a visa,\n",
      "which is Job Seekers Visa, if you do not have a job, you have a\n",
      "passport, a photograph and you have a 4-year bachelor's degree, you\n",
      "can apply. You ...\n"
     ]
    }
   ],
   "source": [
    "response = query_engine.chat(\"How can i migrate from pakistan to dubai? give me youtube video link and publish date\")\n",
    "print(response)\n",
    "pprint_response(response,show_source=True)"
   ]
  },
  {
   "cell_type": "code",
   "execution_count": 114,
   "metadata": {},
   "outputs": [
    {
     "name": "stdout",
     "output_type": "stream",
     "text": [
      "Final Response: I think there might be some confusion! According to\n",
      "the transcript of one of Zeeshan Usmani's videos, he mentioned that he\n",
      "has around 29,000 subscribers, not 2 million.  Here's the relevant\n",
      "part from the transcript:  \"...my total grade is B+, 29,000\n",
      "subscribers, total video views are 12 million...\"  So, as of the\n",
      "publish date of that video, Zeeshan Usmani's YouTube channel had\n",
      "around 29,000 subscribers.\n",
      "______________________________________________________________________\n",
      "Source Node 1/1\n",
      "Node ID: fa8e5e48-37e9-43e6-a733-7883daac350a\n",
      "Similarity: 0.8529550929354701\n",
      "Text: Now no person has  Go and talk about any topic, he will have the\n",
      "answer, firstly he will not say that I don't know, I don't know, you\n",
      "can ask someone else, it is not my topic, he definitely has some\n",
      "opinion to give, from cancer patient to cancer.  From how will Shifa\n",
      "be in the marriage, she will know everything from the chief of the\n",
      "country's ar...\n",
      "I think there might be some confusion! According to the transcript of one of Zeeshan Usmani's videos, he mentioned that he has around 29,000 subscribers, not 2 million.\n",
      "\n",
      "Here's the relevant part from the transcript:\n",
      "\n",
      "\"...my total grade is B+, 29,000 subscribers, total video views are 12 million...\"\n",
      "\n",
      "So, as of the publish date of that video, Zeeshan Usmani's YouTube channel had around 29,000 subscribers.\n"
     ]
    }
   ],
   "source": [
    "#query_engine = index.as_query_engine()\n",
    "response = query_engine.chat(\"How many youtube subscribers of zishan usmani yotube channel? he told me that is his video he has 2 million subscribers?\")\n",
    "pprint_response(response,show_source=True)\n",
    "print(response)"
   ]
  },
  {
   "cell_type": "code",
   "execution_count": 83,
   "metadata": {},
   "outputs": [
    {
     "name": "stdout",
     "output_type": "stream",
     "text": [
      "I apologize, but I don't have access to the entire list of Zeeshan Usmani's YouTube channel videos. The context provided only includes one video transcript.\n",
      "\n",
      "However, I can provide you with a sample table format for Zeeshan Usmani's YouTube channel videos:\n",
      "\n",
      "| **Video Title** | **Description** | **Publish Date** | **Author** | **Transcript** | **YouTube Link** |\n",
      "| --- | --- | --- | --- | --- | --- |\n",
      "| ریحان اللہ والاسے چبھتے سوالات | ... | ... | Zeeshan Usmani | ... | https://www.youtube.com/watch?v=bETjYxNIsLk |\n",
      "| ... | ... | ... | Zeeshan Usmani | ... | ... |\n",
      "| ... | ... | ... | Zeeshan Usmani | ... | ... |\n",
      "\n",
      "Please note that I only have access to the one video transcript provided in the context. If you provide me with the entire dataset of Zeeshan Usmani's YouTube channel videos, I can help you populate this table.\n",
      "\n",
      "Let me know if there's anything else I can assist you with!\n"
     ]
    }
   ],
   "source": [
    "response = query_engine.chat(\"give me all youtube channel videos of zeeshan usmani in table foramt?\")\n",
    "#pprint_response(response,show_source=True)\n",
    "print(response)"
   ]
  },
  {
   "cell_type": "code",
   "execution_count": 54,
   "metadata": {},
   "outputs": [
    {
     "name": "stdout",
     "output_type": "stream",
     "text": [
      "Final Response: According to the transcript, the price of success is\n",
      "the costs that successful people pay, which are not visible, such as\n",
      "hard work, sacrifices, and tiredness. They have to pay the price of\n",
      "their success, which includes their time, relationships, and personal\n",
      "life. They have to work hard, miss important events, and sacrifice\n",
      "their personal life to achieve success.\n",
      "______________________________________________________________________\n",
      "Source Node 1/2\n",
      "Node ID: 939e22b2-2bb9-4ab5-aacd-aee28d773aad\n",
      "Similarity: 0.8374664317783173\n",
      "Text: {     \"source\": \"qvnjim6o8Ik\",     \"title\": \"Price of Success |\n",
      "کامیابی کی قیمت\",     \"description\": \"Unknown\",     \"view_count\":\n",
      "18521,     \"thumbnail_url\":\n",
      "\"https://i.ytimg.com/vi/qvnjim6o8Ik/hq720.jpg?v=65f4c4d6\",\n",
      "\"publish_date\": \"2022-06-15 00:00:00\",     \"length\": 264,\n",
      "\"author\": \"Zeeshan Usmani\",     \"transcript\": \"Assalam alekum, m...\n",
      "______________________________________________________________________\n",
      "Source Node 2/2\n",
      "Node ID: 2be2a327-8c06-4269-8a9d-609cabd2a6ee\n",
      "Similarity: 0.7804073862869649\n",
      "Text: {     \"source\": \"JKbGvSGnLUY\",     \"title\": \"Poison of Success |\n",
      "کامیابی کا زہر | Zeeshan Usmani\",     \"description\": \"Unknown\",\n",
      "\"view_count\": 44269,     \"thumbnail_url\":\n",
      "\"https://i.ytimg.com/vi/JKbGvSGnLUY/hq720.jpg?v=65f4c4d9\",\n",
      "\"publish_date\": \"2024-02-07 00:00:00\",     \"length\": 259,\n",
      "\"author\": \"Zeeshan Usmani\",     \"transcript\": \"...\n",
      "According to the transcript, the price of success is the costs that successful people pay, which are not visible, such as hard work, sacrifices, and tiredness. They have to pay the price of their success, which includes their time, relationships, and personal life. They have to work hard, miss important events, and sacrifice their personal life to achieve success.\n"
     ]
    }
   ],
   "source": [
    "response = query_engine.query(\"what is price of success?\")\n",
    "pprint_response(response,show_source=True)\n",
    "print(response)"
   ]
  },
  {
   "cell_type": "code",
   "execution_count": 72,
   "metadata": {},
   "outputs": [
    {
     "name": "stdout",
     "output_type": "stream",
     "text": [
      "Final Response: I think you're referring to the video \"Happy New Year\n",
      "2022 | نیا سال مبارک\" by Zeeshan Usmani.  Here's a summary of the\n",
      "video:  Zeeshan Usmani starts by wishing his viewers a Happy New Year.\n",
      "He then reflects on how people often focus on the negative aspects of\n",
      "the world, such as corruption, oppression, and injustice. However, he\n",
      "suggests that instead of complaining, we should take responsibility\n",
      "for our own actions and make a positive impact.  He criticizes people\n",
      "who borrow views from others, without having original ideas or taking\n",
      "action. He also pokes fun at motivational speakers who use dramatic\n",
      "gestures and expressions to engage their audience, but lack substance.\n",
      "Zeeshan Usmani emphasizes the importance of self-reflection, taking\n",
      "responsibility, and making a positive difference in the world.\n",
      "**Publish Date:** 2021-12-20 (not 2022-01-19, I apologize for the\n",
      "mistake)  Let me know if you'd like more information!\n",
      "______________________________________________________________________\n",
      "Source Node 1/2\n",
      "Node ID: 24b058e3-e62f-4fb1-949a-2e6b51a3c3f8\n",
      "Similarity: 0.810418648173022\n",
      "Text: {     \"source\": \"llZQRswGUnk\",     \"title\": \"What You Have Done\n",
      "in 2023? | پرانے سال میں کیا کریں؟ | year in review 2023 | Zeeshan\n",
      "Usmani\",     \"description\": \"Unknown\",     \"view_count\": 15588,\n",
      "\"thumbnail_url\":\n",
      "\"https://i.ytimg.com/vi/llZQRswGUnk/hq720.jpg?v=65f4c4d9\",\n",
      "\"publish_date\": \"2023-12-27 00:00:00\",     \"length\": 456,\n",
      "\"autho...\n",
      "______________________________________________________________________\n",
      "Source Node 2/2\n",
      "Node ID: 338b7fe7-1321-4bec-ac83-ea01153136d8\n",
      "Similarity: 0.8014992714312134\n",
      "Text: {     \"source\": \"ODwMzaz4oWg\",     \"title\": \"Happy New Year 2022\n",
      "| نیا سال مبارک\",     \"description\": \"Unknown\",     \"view_count\":\n",
      "8319,     \"thumbnail_url\":\n",
      "\"https://i.ytimg.com/vi/ODwMzaz4oWg/hq720.jpg?v=65f4c4d7\",\n",
      "\"publish_date\": \"2021-12-20 00:00:00\",     \"length\": 285,\n",
      "\"author\": \"Zeeshan Usmani\",     \"transcript\": \"Assalamualaikum, ...\n",
      "I think you're referring to the video \"Happy New Year 2022 | نیا سال مبارک\" by Zeeshan Usmani.\n",
      "\n",
      "Here's a summary of the video:\n",
      "\n",
      "Zeeshan Usmani starts by wishing his viewers a Happy New Year. He then reflects on how people often focus on the negative aspects of the world, such as corruption, oppression, and injustice. However, he suggests that instead of complaining, we should take responsibility for our own actions and make a positive impact.\n",
      "\n",
      "He criticizes people who borrow views from others, without having original ideas or taking action. He also pokes fun at motivational speakers who use dramatic gestures and expressions to engage their audience, but lack substance.\n",
      "\n",
      "Zeeshan Usmani emphasizes the importance of self-reflection, taking responsibility, and making a positive difference in the world.\n",
      "\n",
      "**Publish Date:** 2021-12-20 (not 2022-01-19, I apologize for the mistake)\n",
      "\n",
      "Let me know if you'd like more information!\n"
     ]
    }
   ],
   "source": [
    "response = query_engine.chat(\"give me the summary which was publish date on 2022-01-19?\")\n",
    "pprint_response(response,show_source=True)\n",
    "print(response)"
   ]
  },
  {
   "cell_type": "code",
   "execution_count": 73,
   "metadata": {},
   "outputs": [
    {
     "name": "stdout",
     "output_type": "stream",
     "text": [
      "Final Response: I apologize for the mistake. I don't have information\n",
      "about a specific video published on 2022-01-19. The transcripts I have\n",
      "access to are from two videos:  1. \"Meeting with Mufti Tariq Masood |\n",
      "مفتی طارق مسعود سے ملاقات | Zeeshan Usmani\" 2. \"What Pakistan Should\n",
      "Do پاکستان کیا کرے | Zeeshan Usmani\"  If you can provide more context\n",
      "or information about the video published on 2022-01-19, I'll try to\n",
      "help you find the summary.\n",
      "______________________________________________________________________\n",
      "Source Node 1/2\n",
      "Node ID: e360f9c8-3733-4fbc-9569-781df30b6278\n",
      "Similarity: 0.8317222791567985\n",
      "Text: {     \"source\": \"u0-krlmX1_0\",     \"title\": \"Meeting with Mufti\n",
      "Tariq Masood | مفتی طارق مسعود سے ملاقات | Zeeshan Usmani\",\n",
      "\"description\": \"Unknown\",     \"view_count\": 389959,\n",
      "\"thumbnail_url\":\n",
      "\"https://i.ytimg.com/vi/u0-krlmX1_0/hq720.jpg?v=65f4c4d6\",\n",
      "\"publish_date\": \"2022-02-28 00:00:00\",     \"length\": 952,\n",
      "\"author\": \"Zeeshan Us...\n",
      "______________________________________________________________________\n",
      "Source Node 2/2\n",
      "Node ID: b57e6cff-eeb9-4135-bb66-9cdb5a03c54e\n",
      "Similarity: 0.830987339093949\n",
      "Text: I will discuss a little about all these points.  Some homework\n",
      "has been done, if you want to know more, you are interested in it, if\n",
      "you want to do any work, I can provide it to you too, I am a data\n",
      "scientist, data is my work, apart from that I don't know much, data, I\n",
      "can provide you when.  Who is doing what where and in what place? How\n",
      "can we ...\n",
      "I apologize for the mistake. I don't have information about a specific video published on 2022-01-19. The transcripts I have access to are from two videos:\n",
      "\n",
      "1. \"Meeting with Mufti Tariq Masood | مفتی طارق مسعود سے ملاقات | Zeeshan Usmani\"\n",
      "2. \"What Pakistan Should Do پاکستان کیا کرے | Zeeshan Usmani\"\n",
      "\n",
      "If you can provide more context or information about the video published on 2022-01-19, I'll try to help you find the summary.\n"
     ]
    }
   ],
   "source": [
    "response = query_engine.chat(\"this is wrong info there is video available which publisg date is 2022-01-19?\")\n",
    "pprint_response(response,show_source=True)\n",
    "print(response)"
   ]
  },
  {
   "cell_type": "code",
   "execution_count": 57,
   "metadata": {},
   "outputs": [
    {
     "name": "stdout",
     "output_type": "stream",
     "text": [
      "Final Response: According to the given information, Pakistan has a\n",
      "population of 219 million people. Out of these, 10 million people are\n",
      "disabled, either handicapped or having some other kind of disability.\n",
      "There are 40 million people who are below 14 years of age, and 10\n",
      "million people who are above 65 years old. Additionally, there are\n",
      "86000 Pakistanis who are imprisoned, 11000 Pakistanis who are\n",
      "imprisoned in other countries, 160,000 Pakistanis who are suffering\n",
      "from AIDS, and 17 million people who have Hepatitis B or C.\n",
      "Furthermore, 32 million people in Pakistan have heart diseases, and\n",
      "37.5 million people are diabetic.\n",
      "______________________________________________________________________\n",
      "Source Node 1/2\n",
      "Node ID: 907f620b-c0e9-4f43-bb98-5c6915855c48\n",
      "Similarity: 0.8677311262422863\n",
      "Text: Pakistan Air Force, Pakistan Navy is a part of Pakistan Army,\n",
      "which protects all these 219 million population, absolutely inside\n",
      "Pakistan. According to a rough estimate, there are about 10 million\n",
      "such people i.e. 10 million people who are disabled, either they are\n",
      "handicapped or they don't have hands or they don't have legs or they\n",
      "can't see or...\n",
      "______________________________________________________________________\n",
      "Source Node 2/2\n",
      "Node ID: 6026cf41-3dbf-4b37-870f-b85e5aef36c7\n",
      "Similarity: 0.8652066507325453\n",
      "Text: {     \"source\": \"TZSsBefpPkM\",     \"title\": \"Misconceptions\n",
      "about Pakistan     مغالطہ پاکستان\",     \"description\": \"Unknown\",\n",
      "\"view_count\": 8785,     \"thumbnail_url\":\n",
      "\"https://i.ytimg.com/vi/TZSsBefpPkM/hq720.jpg?v=65f4c4d7\",\n",
      "\"publish_date\": \"2020-02-02 00:00:00\",     \"length\": 643,\n",
      "\"author\": \"Zeeshan Usmani\",     \"transcript\": \"Assa...\n",
      "According to the given information, Pakistan has a population of 219 million people. Out of these, 10 million people are disabled, either handicapped or having some other kind of disability. There are 40 million people who are below 14 years of age, and 10 million people who are above 65 years old. Additionally, there are 86000 Pakistanis who are imprisoned, 11000 Pakistanis who are imprisoned in other countries, 160,000 Pakistanis who are suffering from AIDS, and 17 million people who have Hepatitis B or C. Furthermore, 32 million people in Pakistan have heart diseases, and 37.5 million people are diabetic.\n"
     ]
    }
   ],
   "source": [
    "response = query_engine.query(\"tell me about the people of pakistan?\")\n",
    "pprint_response(response,show_source=True)\n",
    "print(response)"
   ]
  },
  {
   "cell_type": "code",
   "execution_count": null,
   "metadata": {},
   "outputs": [],
   "source": []
  }
 ],
 "metadata": {
  "kernelspec": {
   "display_name": "Python 3",
   "language": "python",
   "name": "python3"
  },
  "language_info": {
   "codemirror_mode": {
    "name": "ipython",
    "version": 3
   },
   "file_extension": ".py",
   "mimetype": "text/x-python",
   "name": "python",
   "nbconvert_exporter": "python",
   "pygments_lexer": "ipython3",
   "version": "3.10.14"
  }
 },
 "nbformat": 4,
 "nbformat_minor": 2
}
