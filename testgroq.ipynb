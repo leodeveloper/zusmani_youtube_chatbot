{
 "cells": [
  {
   "cell_type": "code",
   "execution_count": 1,
   "metadata": {},
   "outputs": [
    {
     "name": "stderr",
     "output_type": "stream",
     "text": [
      "/Users/muhammadsuleman/zusmani_youtube_chatbot/envz/lib/python3.10/site-packages/tqdm/auto.py:21: TqdmWarning: IProgress not found. Please update jupyter and ipywidgets. See https://ipywidgets.readthedocs.io/en/stable/user_install.html\n",
      "  from .autonotebook import tqdm as notebook_tqdm\n",
      "None of PyTorch, TensorFlow >= 2.0, or Flax have been found. Models won't be available and only tokenizers, configuration and file/data utilities can be used.\n"
     ]
    }
   ],
   "source": [
    "from llama_index.llms.groq import Groq"
   ]
  },
  {
   "cell_type": "code",
   "execution_count": 4,
   "metadata": {},
   "outputs": [],
   "source": [
    "import os\n",
    "from llama_index.core import Settings\n",
    "#from llama_index.llms.openai import OpenAI\n",
    "from llama_index.core import (\n",
    "    VectorStoreIndex,\n",
    "    SimpleDirectoryReader,\n",
    "    StorageContext,\n",
    "    load_index_from_storage,\n",
    ")\n",
    "from llama_index.core.response.pprint_utils import pprint_response"
   ]
  },
  {
   "cell_type": "code",
   "execution_count": null,
   "metadata": {},
   "outputs": [],
   "source": [
    "from dotenv import load_dotenv\n",
    "load_dotenv()"
   ]
  },
  {
   "cell_type": "code",
   "execution_count": 10,
   "metadata": {},
   "outputs": [
    {
     "ename": "TypeError",
     "evalue": "str expected, not NoneType",
     "output_type": "error",
     "traceback": [
      "\u001b[0;31m---------------------------------------------------------------------------\u001b[0m",
      "\u001b[0;31mTypeError\u001b[0m                                 Traceback (most recent call last)",
      "Cell \u001b[0;32mIn[10], line 1\u001b[0m\n\u001b[0;32m----> 1\u001b[0m \u001b[43mos\u001b[49m\u001b[38;5;241;43m.\u001b[39;49m\u001b[43menviron\u001b[49m\u001b[43m[\u001b[49m\u001b[38;5;124;43m'\u001b[39;49m\u001b[38;5;124;43mGROQ_API_KEY\u001b[39;49m\u001b[38;5;124;43m'\u001b[39;49m\u001b[43m]\u001b[49m\u001b[38;5;241m=\u001b[39mos\u001b[38;5;241m.\u001b[39mgetenv(\u001b[38;5;124m\"\u001b[39m\u001b[38;5;124mGROQ_API_KEY\u001b[39m\u001b[38;5;124m\"\u001b[39m)\n\u001b[1;32m      2\u001b[0m llm \u001b[38;5;241m=\u001b[39m Groq(temperature\u001b[38;5;241m=\u001b[39m\u001b[38;5;241m0\u001b[39m,model\u001b[38;5;241m=\u001b[39m\u001b[38;5;124m\"\u001b[39m\u001b[38;5;124mllama3-8b-8192\u001b[39m\u001b[38;5;124m\"\u001b[39m)\n\u001b[1;32m      3\u001b[0m Settings\u001b[38;5;241m.\u001b[39mllm \u001b[38;5;241m=\u001b[39m llm\n",
      "File \u001b[0;32m~/zusmani_youtube_chatbot/envz/lib/python3.10/os.py:685\u001b[0m, in \u001b[0;36m_Environ.__setitem__\u001b[0;34m(self, key, value)\u001b[0m\n\u001b[1;32m    683\u001b[0m \u001b[38;5;28;01mdef\u001b[39;00m \u001b[38;5;21m__setitem__\u001b[39m(\u001b[38;5;28mself\u001b[39m, key, value):\n\u001b[1;32m    684\u001b[0m     key \u001b[38;5;241m=\u001b[39m \u001b[38;5;28mself\u001b[39m\u001b[38;5;241m.\u001b[39mencodekey(key)\n\u001b[0;32m--> 685\u001b[0m     value \u001b[38;5;241m=\u001b[39m \u001b[38;5;28;43mself\u001b[39;49m\u001b[38;5;241;43m.\u001b[39;49m\u001b[43mencodevalue\u001b[49m\u001b[43m(\u001b[49m\u001b[43mvalue\u001b[49m\u001b[43m)\u001b[49m\n\u001b[1;32m    686\u001b[0m     putenv(key, value)\n\u001b[1;32m    687\u001b[0m     \u001b[38;5;28mself\u001b[39m\u001b[38;5;241m.\u001b[39m_data[key] \u001b[38;5;241m=\u001b[39m value\n",
      "File \u001b[0;32m~/zusmani_youtube_chatbot/envz/lib/python3.10/os.py:757\u001b[0m, in \u001b[0;36m_createenviron.<locals>.encode\u001b[0;34m(value)\u001b[0m\n\u001b[1;32m    755\u001b[0m \u001b[38;5;28;01mdef\u001b[39;00m \u001b[38;5;21mencode\u001b[39m(value):\n\u001b[1;32m    756\u001b[0m     \u001b[38;5;28;01mif\u001b[39;00m \u001b[38;5;129;01mnot\u001b[39;00m \u001b[38;5;28misinstance\u001b[39m(value, \u001b[38;5;28mstr\u001b[39m):\n\u001b[0;32m--> 757\u001b[0m         \u001b[38;5;28;01mraise\u001b[39;00m \u001b[38;5;167;01mTypeError\u001b[39;00m(\u001b[38;5;124m\"\u001b[39m\u001b[38;5;124mstr expected, not \u001b[39m\u001b[38;5;132;01m%s\u001b[39;00m\u001b[38;5;124m\"\u001b[39m \u001b[38;5;241m%\u001b[39m \u001b[38;5;28mtype\u001b[39m(value)\u001b[38;5;241m.\u001b[39m\u001b[38;5;18m__name__\u001b[39m)\n\u001b[1;32m    758\u001b[0m     \u001b[38;5;28;01mreturn\u001b[39;00m value\u001b[38;5;241m.\u001b[39mencode(encoding, \u001b[38;5;124m'\u001b[39m\u001b[38;5;124msurrogateescape\u001b[39m\u001b[38;5;124m'\u001b[39m)\n",
      "\u001b[0;31mTypeError\u001b[0m: str expected, not NoneType"
     ]
    }
   ],
   "source": [
    "os.environ['GROQ_API_KEY']=os.getenv(\"GROQ_API_KEY\")\n",
    "llm = Groq(temperature=0,model=\"llama3-8b-8192\")\n",
    "Settings.llm = llm\n"
   ]
  },
  {
   "cell_type": "code",
   "execution_count": 5,
   "metadata": {},
   "outputs": [],
   "source": [
    "# check if storage already exists\n",
    "PERSIST_DIR = \"./storage\"\n",
    "if not os.path.exists(PERSIST_DIR):\n",
    "    # load the documents and create the index\n",
    "    documents = SimpleDirectoryReader(\"data\").load_data()\n",
    "    index = VectorStoreIndex.from_documents(documents)\n",
    "    # store it for later\n",
    "    index.storage_context.persist(persist_dir=PERSIST_DIR)\n",
    "else:\n",
    "    # load the existing index\n",
    "    storage_context = StorageContext.from_defaults(persist_dir=PERSIST_DIR)\n",
    "    index = load_index_from_storage(storage_context)"
   ]
  },
  {
   "cell_type": "code",
   "execution_count": 6,
   "metadata": {},
   "outputs": [
    {
     "name": "stdout",
     "output_type": "stream",
     "text": [
      "Final Response: Zeeshan Usmani's YouTube channel has more than two\n",
      "million subscribers.\n",
      "______________________________________________________________________\n",
      "Source Node 1/2\n",
      "Node ID: b9601e27-cdf0-4652-a406-b9e7bfb87cf4\n",
      "Similarity: 0.8600318553547128\n",
      "Text: {     \"source\": \"wT6tjKarxRI\",     \"title\": \"2 Million\n",
      "Subscribers | دو ملین سبسکرائبرز کا شکریہ | Zeeshan Usmani\",\n",
      "\"description\": \"Unknown\",     \"view_count\": 8568,     \"thumbnail_url\":\n",
      "\"https://i.ytimg.com/vi/wT6tjKarxRI/hq720.jpg?v=65f4c4d9\",\n",
      "\"publish_date\": \"2024-01-19 00:00:00\",     \"length\": 184,\n",
      "\"author\": \"Zeeshan Usmani\",    ...\n",
      "______________________________________________________________________\n",
      "Source Node 2/2\n",
      "Node ID: 28f5c55d-26f8-4778-abc5-fd79b632ced8\n",
      "Similarity: 0.8031882334383124\n",
      "Text: Well, we will talk about this in detail some other time. Now I\n",
      "just wanted to tell you that let the children be children, pay\n",
      "attention to their health, do the four links that I am giving on top\n",
      "of this and try to do one thing that do not keep the children in front\n",
      "of TV and iPad. If you have given the child 5  If you protect yourself\n",
      "from TV an...\n",
      "Zeeshan Usmani's YouTube channel has more than two million subscribers.\n"
     ]
    }
   ],
   "source": [
    "query_engine = index.as_query_engine()\n",
    "response = query_engine.query(\"How many youtube subscriber of zeeshan usmani yotube channel?\")\n",
    "pprint_response(response,show_source=True)\n",
    "print(response)"
   ]
  },
  {
   "cell_type": "code",
   "execution_count": 9,
   "metadata": {},
   "outputs": [
    {
     "name": "stdout",
     "output_type": "stream",
     "text": [
      "{\n",
      "    \"videos\": [\n",
      "        {\n",
      "            \"source\": \"wT6tjKarxRI\",\n",
      "            \"title\": \"2 Million Subscribers | دو ملین سبسکرائبرز کا شکریہ | Zeeshan Usmani\",\n",
      "            \"description\": \"Unknown\",\n",
      "            \"view_count\": 8568,\n",
      "            \"thumbnail_url\": \"https://i.ytimg.com/vi/wT6tjKarxRI/hq720.jpg?v=65f4c4d9\",\n",
      "            \"publish_date\": \"2024-01-19 00:00:00\",\n",
      "            \"length\": 184,\n",
      "            \"author\": \"Zeeshan Usmani\",\n",
      "            \"transcript\": \"Bismillah Rahman Rahim Assalam Walakeum, my name is Zishan Usmani, thank you very much to you all, Allah Subhana Tala did the deed that I got more than two million subscribers, so I thought of thanking you guys, the same situation happened as I did after getting one million subscribers.  I was not able to understand anything, now it became two million, then I got into trouble that if these people complained to Allah Subhan Taala and complained that Allah used to follow them and it took them on the wrong path.  So what will happen to me and the same problem or fear became the reason for the absence of 2022 days that I could not watch any video but then I understood some things and consulted some people, Allah will do my work, you people too.  Please pray for this, may Allah make it easier for you guys, once again thank you very much, if we analyze the population of youtube.in, then one out of every three people is present above one third of the world's population, such a big channel has become.  It has become such a big medium to convey one's message to others. Out of these 2.6 billion people, some 13 crore people have their own channel. Out of 131 million youtube3 1 million 13 crore channels that exist, the channels that are monetized in the world are 10 percent.  Those to whom the money is paid above which is monetized at 88%, the channels at 88% are those whose subscribers are less than 1000, the videos above 90% are those whose views are less than 1000, 4 lakh channels are those whose subscribers are 1.  There are more than 4 lakh play buttons in the world, after 1 lakh you get a silver one, then after 10 lakh you get a golden one, then above platinum you get another one, there are 4 lakh play buttons in the world, there are 4 lakhs.  Only those channels are present whose subscribers are more than 1 lakh. Out of these 4 lakh, 2 lakh play buttons are present only in India, that is, there are 2 lakh play buttons in the whole world and 2 lakh are present only in India, those channels whose subscribers are more than 1 million.  Those above are 40000, those channels which have above two million in which I have joined are 18000, those channels which are above 10 million are only 1300, so where did we start from 13 crores and came above 13 and 13?  Which is above 10 million, which is above 100 million, there are seven channels in it, but if you see the top 50 channels of the world, then four-five Pakistani channels are also included in it, those news ones have become Zoo TV, AR or these have become six channels.  But the 60 channels and videos that are made in the world are made in the English medium, so within that there is an Urdu channel in which we talk in Urdu language and we will gain so many subscribers, this is the work of Allah and anything else.  No, I hope you must have learned something from this channel and if you have learned anything from this channel till now, then please tell me in the comments section what type of videos you want to watch. So that we can give you more and more things accordingly which will benefit you too. Finally, please pray for me once again. I am Zeeshan Usmani for all of you.\",\n",
      "            \"youtubelink\": \"https://www.youtube.com/watch?v=wT6tjKarxRI\"\n",
      "        },\n",
      "        {\n",
      "            \"source\": \"svkOKqPvg1o\",\n",
      "            \"title\": \"1 to 5 Years Childrens | 1 سے 5 سال کے بچوں کی زمانت | Zeeshan Usmani\",\n",
      "            \"description\": \"Well, we will talk about this in detail some other time. Now I just wanted to tell you that let the children be children, pay attention to their health, do the four links that I am giving on top of this and try to do one thing that do not keep the children in front of TV and iPad. If you have given the child 5  If you protect yourself from TV and eyes till the age of one year, then you have done a lot of work. Children hear with their eyes, not with their ears, they see what is happening. By the age of 5, the child is praying with you, if Azaan is offered.  And he runs to you and brings Namaz, saying, Papa, let's go, it's time for Namaz, so you have done a lot of work in offering Namaz, it should not be that he is telling you about the drama and about the serial, Ammi ji, that serial has started.  Does your child speak correctly? He knows personal hygiene. He knows how to count till 20. He knows shapes. The child is fine but work on his Akita. He knows Namaz. He knows Quran. No one knows how to read.  It is not an issue, at least he can stand with you, at least he should know that there is only one Allah, we are worshiping Him, this is the seed of worship, right? At this age, you can speak words just like we put seeds in a flower pot, right? Later, great stress turns into a tree. This is the age of up to 5 years to sow the middle of worship. If you miss it then only Allah does the work and if it is written in the destiny then it is a different thing. Another wise child has gone from work.  Now there will be no middle of worship in it. You yourself see what you are sowing or whether you are sowing for someone's hatred or whether you are reaping [Music] [Music]\",\n",
      "            \"youtubelink\": \"https://www.youtube.com/watch?v=svkOKqPvg1o\"\n",
      "        }\n",
      "    ]\n",
      "}\n"
     ]
    }
   ],
   "source": [
    "response = query_engine.query(\"give me all youtube channel video of zeeshan usmani in json?\")\n",
    "#pprint_response(response,show_source=True)\n",
    "print(response)"
   ]
  },
  {
   "cell_type": "code",
   "execution_count": null,
   "metadata": {},
   "outputs": [],
   "source": []
  }
 ],
 "metadata": {
  "kernelspec": {
   "display_name": "Python 3",
   "language": "python",
   "name": "python3"
  },
  "language_info": {
   "codemirror_mode": {
    "name": "ipython",
    "version": 3
   },
   "file_extension": ".py",
   "mimetype": "text/x-python",
   "name": "python",
   "nbconvert_exporter": "python",
   "pygments_lexer": "ipython3",
   "version": "3.10.14"
  }
 },
 "nbformat": 4,
 "nbformat_minor": 2
}
