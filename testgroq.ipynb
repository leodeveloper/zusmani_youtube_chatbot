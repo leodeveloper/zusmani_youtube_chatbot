{
 "cells": [
  {
   "cell_type": "code",
   "execution_count": 39,
   "metadata": {},
   "outputs": [],
   "source": [
    "from llama_index.llms.groq import Groq"
   ]
  },
  {
   "cell_type": "code",
   "execution_count": 40,
   "metadata": {},
   "outputs": [],
   "source": [
    "import os\n",
    "from llama_index.core import Settings\n",
    "#from llama_index.llms.openai import OpenAI\n",
    "from llama_index.core import (\n",
    "    VectorStoreIndex,\n",
    "    SimpleDirectoryReader,\n",
    "    StorageContext,\n",
    "    load_index_from_storage,\n",
    ")\n",
    "from llama_index.core.response.pprint_utils import pprint_response"
   ]
  },
  {
   "cell_type": "code",
   "execution_count": 41,
   "metadata": {},
   "outputs": [
    {
     "data": {
      "text/plain": [
       "True"
      ]
     },
     "execution_count": 41,
     "metadata": {},
     "output_type": "execute_result"
    }
   ],
   "source": [
    "from dotenv import load_dotenv\n",
    "load_dotenv()"
   ]
  },
  {
   "cell_type": "code",
   "execution_count": 42,
   "metadata": {},
   "outputs": [],
   "source": [
    "os.environ['GROQ_API_KEY']=os.getenv(\"GROQ_API_KEY\")\n",
    "llm = Groq(temperature=0,model=\"llama3-70b-8192\")\n",
    "Settings.llm = llm\n"
   ]
  },
  {
   "cell_type": "code",
   "execution_count": 50,
   "metadata": {},
   "outputs": [],
   "source": [
    "# check if storage already exists\n",
    "PERSIST_DIR = \"./storage\"\n",
    "if not os.path.exists(PERSIST_DIR):\n",
    "    # load the documents and create the index\n",
    "    documents = SimpleDirectoryReader(\"youtubetranscript/zeeshanusmani\").load_data()\n",
    "    index = VectorStoreIndex.from_documents(documents)\n",
    "    # store it for later\n",
    "    index.storage_context.persist(persist_dir=PERSIST_DIR)\n",
    "else:\n",
    "    # load the existing index\n",
    "    storage_context = StorageContext.from_defaults(persist_dir=PERSIST_DIR)\n",
    "    index = load_index_from_storage(storage_context)"
   ]
  },
  {
   "cell_type": "code",
   "execution_count": 74,
   "metadata": {},
   "outputs": [
    {
     "name": "stdout",
     "output_type": "stream",
     "text": [
      "There is no information in the provided context about a two million subscriber video link. The context only provides information about a video with one million subscribers."
     ]
    }
   ],
   "source": [
    "query_engine = index.as_query_engine(streaming=True, similarity_top_k=1)\n",
    "response_stream = query_engine.query(\n",
    "    \"give me two million subscriber video link\",\n",
    ")\n",
    "response_stream.print_response_stream()"
   ]
  },
  {
   "cell_type": "code",
   "execution_count": 64,
   "metadata": {},
   "outputs": [
    {
     "name": "stdout",
     "output_type": "stream",
     "text": [
      "The YouTube link for the 2 million subscriber video is:\n",
      "\n",
      "https://www.youtube.com/watch?v=wT6tjKarxRI\n"
     ]
    }
   ],
   "source": [
    "query_engine = index.as_chat_engine(chat_mode=\"context\", llm=llm,verbose=True)\n",
    "response = query_engine.chat(\"give me two million subscriber video link\")\n",
    "print(response)"
   ]
  },
  {
   "cell_type": "code",
   "execution_count": 76,
   "metadata": {},
   "outputs": [
    {
     "name": "stdout",
     "output_type": "stream",
     "text": [
      "Migrating from Pakistan to Dubai can be a challenging process, but with the right guidance, it can be achievable.\n",
      "\n",
      "According to Zeeshan Usmani's video, \"Podcast with Sunny Ali\", he shares valuable insights on how to migrate from Pakistan to Dubai. He emphasizes the importance of having a second passport and shares strategies on how to get immigration and a second passport.\n",
      "\n",
      "Here's the YouTube video link: https://www.youtube.com/watch?v=Oc_hIqVkHvg\n",
      "\n",
      "Publish Date: Not specified in the provided document, but I can try to help you find it if you need it!\n",
      "\n",
      "In the video, Zeeshan Usmani also talks about the difficulties of doing business in Pakistan due to political instability and how it's affecting investments. He also highlights the importance of emerging technologies like AI, Data Sciences, and Machine Learning for a bright future.\n",
      "\n",
      "If you have any specific questions about migrating from Pakistan to Dubai, feel free to ask, and I'll do my best to help!\n",
      "Final Response: Migrating from Pakistan to Dubai can be a challenging\n",
      "process, but with the right guidance, it can be achievable.  According\n",
      "to Zeeshan Usmani's video, \"Podcast with Sunny Ali\", he shares\n",
      "valuable insights on how to migrate from Pakistan to Dubai. He\n",
      "emphasizes the importance of having a second passport and shares\n",
      "strategies on how to get immigration and a second passport.  Here's\n",
      "the YouTube video link: https://www.youtube.com/watch?v=Oc_hIqVkHvg\n",
      "Publish Date: Not specified in the provided document, but I can try to\n",
      "help you find it if you need it!  In the video, Zeeshan Usmani also\n",
      "talks about the difficulties of doing business in Pakistan due to\n",
      "political instability and how it's affecting investments. He also\n",
      "highlights the importance of emerging technologies like AI, Data\n",
      "Sciences, and Machine Learning for a bright future.  If you have any\n",
      "specific questions about migrating from Pakistan to Dubai, feel free\n",
      "to ask, and I'll do my best to help!\n",
      "______________________________________________________________________\n",
      "Source Node 1/1\n",
      "Node ID: 8b05f35a-da88-40c6-86f5-c50f481fe82a\n",
      "Similarity: 0.8384680484115548\n",
      "Text: I have completely created and given the incubation environment,\n",
      "then after that I guide them as to how to migrate, how to change the\n",
      "land, if you have started earning dollars in Pakistan, then now if you\n",
      "want to get out, then how will you get out?  What are the strategies,\n",
      "what are the ways, how to get immigration, how to get second passport,\n",
      "be...\n"
     ]
    }
   ],
   "source": [
    "from llama_index.core.memory import ChatMemoryBuffer\n",
    "\n",
    "memory = ChatMemoryBuffer.from_defaults(token_limit=3900)\n",
    "query_engine = index.as_chat_engine(chat_mode=\"condense_plus_context\", llm=llm,\n",
    "                                    context_prompt=(\n",
    "                                        \"You are a chatbot, able to have normal interactions, as well as talk\"\n",
    "                                        \" about an Zeeshan usmani youtube channel videos. all the source documents contains json format consists\"\n",
    "                                        \"source, title, description, publish_date, author, transcript, youtubelink\"\n",
    "                                        \"Here are the relevant documents for the context:\\n\"\n",
    "                                        \"{context_str}\"\n",
    "                                        \"\\nInstruction: Use the previous chat history, or the context above, to interact and help the user, and always return the youtubelink and publish_date from soruce document\"\n",
    "                                    )\n",
    "                                    ,verbose=False,similarity_top_k=1)\n",
    "response = query_engine.chat(\"How can i migrate from pakistan to dubai? give me youtube video link and publish date\")\n",
    "print(response)\n",
    "pprint_response(response,show_source=True)\n"
   ]
  },
  {
   "cell_type": "code",
   "execution_count": 82,
   "metadata": {},
   "outputs": [
    {
     "name": "stdout",
     "output_type": "stream",
     "text": [
      "Final Response: I remember! According to Zeeshan Usmani's video, he\n",
      "mentioned that he has 2.68 lakh (268,000) subscribers, and he\n",
      "projected that he would reach 2.5 million subscribers within 3 years.\n",
      "However, you mentioned that he updated his subscriber count to 2\n",
      "million subscribers in a later video.\n",
      "______________________________________________________________________\n",
      "Source Node 1/1\n",
      "Node ID: cd5ce9dc-83dc-4e85-aaf2-f6b6424368c3\n",
      "Similarity: 0.8752598231185907\n",
      "Text: The average number of views I used to get per day was 165000\n",
      "people watching my videos, currently they are watching 244000, it\n",
      "means more people are watching my videos than my subscribers, then you\n",
      "click on the interesting thing, you can see the future projection.\n",
      "Click on how much the channel Majeed will grow. Here future\n",
      "projections are made t...\n",
      "I remember! According to Zeeshan Usmani's video, he mentioned that he has 2.68 lakh (268,000) subscribers, and he projected that he would reach 2.5 million subscribers within 3 years. However, you mentioned that he updated his subscriber count to 2 million subscribers in a later video.\n"
     ]
    }
   ],
   "source": [
    "#query_engine = index.as_query_engine()\n",
    "response = query_engine.chat(\"How many youtube subscribers of zishan usmani yotube channel? he told me that is his video he has 2 million subscribers?\")\n",
    "pprint_response(response,show_source=True)\n",
    "print(response)"
   ]
  },
  {
   "cell_type": "code",
   "execution_count": 83,
   "metadata": {},
   "outputs": [
    {
     "name": "stdout",
     "output_type": "stream",
     "text": [
      "I apologize, but I don't have access to the entire list of Zeeshan Usmani's YouTube channel videos. The context provided only includes one video transcript.\n",
      "\n",
      "However, I can provide you with a sample table format for Zeeshan Usmani's YouTube channel videos:\n",
      "\n",
      "| **Video Title** | **Description** | **Publish Date** | **Author** | **Transcript** | **YouTube Link** |\n",
      "| --- | --- | --- | --- | --- | --- |\n",
      "| ریحان اللہ والاسے چبھتے سوالات | ... | ... | Zeeshan Usmani | ... | https://www.youtube.com/watch?v=bETjYxNIsLk |\n",
      "| ... | ... | ... | Zeeshan Usmani | ... | ... |\n",
      "| ... | ... | ... | Zeeshan Usmani | ... | ... |\n",
      "\n",
      "Please note that I only have access to the one video transcript provided in the context. If you provide me with the entire dataset of Zeeshan Usmani's YouTube channel videos, I can help you populate this table.\n",
      "\n",
      "Let me know if there's anything else I can assist you with!\n"
     ]
    }
   ],
   "source": [
    "response = query_engine.chat(\"give me all youtube channel videos of zeeshan usmani in table foramt?\")\n",
    "#pprint_response(response,show_source=True)\n",
    "print(response)"
   ]
  },
  {
   "cell_type": "code",
   "execution_count": 54,
   "metadata": {},
   "outputs": [
    {
     "name": "stdout",
     "output_type": "stream",
     "text": [
      "Final Response: According to the transcript, the price of success is\n",
      "the costs that successful people pay, which are not visible, such as\n",
      "hard work, sacrifices, and tiredness. They have to pay the price of\n",
      "their success, which includes their time, relationships, and personal\n",
      "life. They have to work hard, miss important events, and sacrifice\n",
      "their personal life to achieve success.\n",
      "______________________________________________________________________\n",
      "Source Node 1/2\n",
      "Node ID: 939e22b2-2bb9-4ab5-aacd-aee28d773aad\n",
      "Similarity: 0.8374664317783173\n",
      "Text: {     \"source\": \"qvnjim6o8Ik\",     \"title\": \"Price of Success |\n",
      "کامیابی کی قیمت\",     \"description\": \"Unknown\",     \"view_count\":\n",
      "18521,     \"thumbnail_url\":\n",
      "\"https://i.ytimg.com/vi/qvnjim6o8Ik/hq720.jpg?v=65f4c4d6\",\n",
      "\"publish_date\": \"2022-06-15 00:00:00\",     \"length\": 264,\n",
      "\"author\": \"Zeeshan Usmani\",     \"transcript\": \"Assalam alekum, m...\n",
      "______________________________________________________________________\n",
      "Source Node 2/2\n",
      "Node ID: 2be2a327-8c06-4269-8a9d-609cabd2a6ee\n",
      "Similarity: 0.7804073862869649\n",
      "Text: {     \"source\": \"JKbGvSGnLUY\",     \"title\": \"Poison of Success |\n",
      "کامیابی کا زہر | Zeeshan Usmani\",     \"description\": \"Unknown\",\n",
      "\"view_count\": 44269,     \"thumbnail_url\":\n",
      "\"https://i.ytimg.com/vi/JKbGvSGnLUY/hq720.jpg?v=65f4c4d9\",\n",
      "\"publish_date\": \"2024-02-07 00:00:00\",     \"length\": 259,\n",
      "\"author\": \"Zeeshan Usmani\",     \"transcript\": \"...\n",
      "According to the transcript, the price of success is the costs that successful people pay, which are not visible, such as hard work, sacrifices, and tiredness. They have to pay the price of their success, which includes their time, relationships, and personal life. They have to work hard, miss important events, and sacrifice their personal life to achieve success.\n"
     ]
    }
   ],
   "source": [
    "response = query_engine.query(\"what is price of success?\")\n",
    "pprint_response(response,show_source=True)\n",
    "print(response)"
   ]
  },
  {
   "cell_type": "code",
   "execution_count": 72,
   "metadata": {},
   "outputs": [
    {
     "name": "stdout",
     "output_type": "stream",
     "text": [
      "Final Response: I think you're referring to the video \"Happy New Year\n",
      "2022 | نیا سال مبارک\" by Zeeshan Usmani.  Here's a summary of the\n",
      "video:  Zeeshan Usmani starts by wishing his viewers a Happy New Year.\n",
      "He then reflects on how people often focus on the negative aspects of\n",
      "the world, such as corruption, oppression, and injustice. However, he\n",
      "suggests that instead of complaining, we should take responsibility\n",
      "for our own actions and make a positive impact.  He criticizes people\n",
      "who borrow views from others, without having original ideas or taking\n",
      "action. He also pokes fun at motivational speakers who use dramatic\n",
      "gestures and expressions to engage their audience, but lack substance.\n",
      "Zeeshan Usmani emphasizes the importance of self-reflection, taking\n",
      "responsibility, and making a positive difference in the world.\n",
      "**Publish Date:** 2021-12-20 (not 2022-01-19, I apologize for the\n",
      "mistake)  Let me know if you'd like more information!\n",
      "______________________________________________________________________\n",
      "Source Node 1/2\n",
      "Node ID: 24b058e3-e62f-4fb1-949a-2e6b51a3c3f8\n",
      "Similarity: 0.810418648173022\n",
      "Text: {     \"source\": \"llZQRswGUnk\",     \"title\": \"What You Have Done\n",
      "in 2023? | پرانے سال میں کیا کریں؟ | year in review 2023 | Zeeshan\n",
      "Usmani\",     \"description\": \"Unknown\",     \"view_count\": 15588,\n",
      "\"thumbnail_url\":\n",
      "\"https://i.ytimg.com/vi/llZQRswGUnk/hq720.jpg?v=65f4c4d9\",\n",
      "\"publish_date\": \"2023-12-27 00:00:00\",     \"length\": 456,\n",
      "\"autho...\n",
      "______________________________________________________________________\n",
      "Source Node 2/2\n",
      "Node ID: 338b7fe7-1321-4bec-ac83-ea01153136d8\n",
      "Similarity: 0.8014992714312134\n",
      "Text: {     \"source\": \"ODwMzaz4oWg\",     \"title\": \"Happy New Year 2022\n",
      "| نیا سال مبارک\",     \"description\": \"Unknown\",     \"view_count\":\n",
      "8319,     \"thumbnail_url\":\n",
      "\"https://i.ytimg.com/vi/ODwMzaz4oWg/hq720.jpg?v=65f4c4d7\",\n",
      "\"publish_date\": \"2021-12-20 00:00:00\",     \"length\": 285,\n",
      "\"author\": \"Zeeshan Usmani\",     \"transcript\": \"Assalamualaikum, ...\n",
      "I think you're referring to the video \"Happy New Year 2022 | نیا سال مبارک\" by Zeeshan Usmani.\n",
      "\n",
      "Here's a summary of the video:\n",
      "\n",
      "Zeeshan Usmani starts by wishing his viewers a Happy New Year. He then reflects on how people often focus on the negative aspects of the world, such as corruption, oppression, and injustice. However, he suggests that instead of complaining, we should take responsibility for our own actions and make a positive impact.\n",
      "\n",
      "He criticizes people who borrow views from others, without having original ideas or taking action. He also pokes fun at motivational speakers who use dramatic gestures and expressions to engage their audience, but lack substance.\n",
      "\n",
      "Zeeshan Usmani emphasizes the importance of self-reflection, taking responsibility, and making a positive difference in the world.\n",
      "\n",
      "**Publish Date:** 2021-12-20 (not 2022-01-19, I apologize for the mistake)\n",
      "\n",
      "Let me know if you'd like more information!\n"
     ]
    }
   ],
   "source": [
    "response = query_engine.chat(\"give me the summary which was publish date on 2022-01-19?\")\n",
    "pprint_response(response,show_source=True)\n",
    "print(response)"
   ]
  },
  {
   "cell_type": "code",
   "execution_count": 73,
   "metadata": {},
   "outputs": [
    {
     "name": "stdout",
     "output_type": "stream",
     "text": [
      "Final Response: I apologize for the mistake. I don't have information\n",
      "about a specific video published on 2022-01-19. The transcripts I have\n",
      "access to are from two videos:  1. \"Meeting with Mufti Tariq Masood |\n",
      "مفتی طارق مسعود سے ملاقات | Zeeshan Usmani\" 2. \"What Pakistan Should\n",
      "Do پاکستان کیا کرے | Zeeshan Usmani\"  If you can provide more context\n",
      "or information about the video published on 2022-01-19, I'll try to\n",
      "help you find the summary.\n",
      "______________________________________________________________________\n",
      "Source Node 1/2\n",
      "Node ID: e360f9c8-3733-4fbc-9569-781df30b6278\n",
      "Similarity: 0.8317222791567985\n",
      "Text: {     \"source\": \"u0-krlmX1_0\",     \"title\": \"Meeting with Mufti\n",
      "Tariq Masood | مفتی طارق مسعود سے ملاقات | Zeeshan Usmani\",\n",
      "\"description\": \"Unknown\",     \"view_count\": 389959,\n",
      "\"thumbnail_url\":\n",
      "\"https://i.ytimg.com/vi/u0-krlmX1_0/hq720.jpg?v=65f4c4d6\",\n",
      "\"publish_date\": \"2022-02-28 00:00:00\",     \"length\": 952,\n",
      "\"author\": \"Zeeshan Us...\n",
      "______________________________________________________________________\n",
      "Source Node 2/2\n",
      "Node ID: b57e6cff-eeb9-4135-bb66-9cdb5a03c54e\n",
      "Similarity: 0.830987339093949\n",
      "Text: I will discuss a little about all these points.  Some homework\n",
      "has been done, if you want to know more, you are interested in it, if\n",
      "you want to do any work, I can provide it to you too, I am a data\n",
      "scientist, data is my work, apart from that I don't know much, data, I\n",
      "can provide you when.  Who is doing what where and in what place? How\n",
      "can we ...\n",
      "I apologize for the mistake. I don't have information about a specific video published on 2022-01-19. The transcripts I have access to are from two videos:\n",
      "\n",
      "1. \"Meeting with Mufti Tariq Masood | مفتی طارق مسعود سے ملاقات | Zeeshan Usmani\"\n",
      "2. \"What Pakistan Should Do پاکستان کیا کرے | Zeeshan Usmani\"\n",
      "\n",
      "If you can provide more context or information about the video published on 2022-01-19, I'll try to help you find the summary.\n"
     ]
    }
   ],
   "source": [
    "response = query_engine.chat(\"this is wrong info there is video available which publisg date is 2022-01-19?\")\n",
    "pprint_response(response,show_source=True)\n",
    "print(response)"
   ]
  },
  {
   "cell_type": "code",
   "execution_count": 57,
   "metadata": {},
   "outputs": [
    {
     "name": "stdout",
     "output_type": "stream",
     "text": [
      "Final Response: According to the given information, Pakistan has a\n",
      "population of 219 million people. Out of these, 10 million people are\n",
      "disabled, either handicapped or having some other kind of disability.\n",
      "There are 40 million people who are below 14 years of age, and 10\n",
      "million people who are above 65 years old. Additionally, there are\n",
      "86000 Pakistanis who are imprisoned, 11000 Pakistanis who are\n",
      "imprisoned in other countries, 160,000 Pakistanis who are suffering\n",
      "from AIDS, and 17 million people who have Hepatitis B or C.\n",
      "Furthermore, 32 million people in Pakistan have heart diseases, and\n",
      "37.5 million people are diabetic.\n",
      "______________________________________________________________________\n",
      "Source Node 1/2\n",
      "Node ID: 907f620b-c0e9-4f43-bb98-5c6915855c48\n",
      "Similarity: 0.8677311262422863\n",
      "Text: Pakistan Air Force, Pakistan Navy is a part of Pakistan Army,\n",
      "which protects all these 219 million population, absolutely inside\n",
      "Pakistan. According to a rough estimate, there are about 10 million\n",
      "such people i.e. 10 million people who are disabled, either they are\n",
      "handicapped or they don't have hands or they don't have legs or they\n",
      "can't see or...\n",
      "______________________________________________________________________\n",
      "Source Node 2/2\n",
      "Node ID: 6026cf41-3dbf-4b37-870f-b85e5aef36c7\n",
      "Similarity: 0.8652066507325453\n",
      "Text: {     \"source\": \"TZSsBefpPkM\",     \"title\": \"Misconceptions\n",
      "about Pakistan     مغالطہ پاکستان\",     \"description\": \"Unknown\",\n",
      "\"view_count\": 8785,     \"thumbnail_url\":\n",
      "\"https://i.ytimg.com/vi/TZSsBefpPkM/hq720.jpg?v=65f4c4d7\",\n",
      "\"publish_date\": \"2020-02-02 00:00:00\",     \"length\": 643,\n",
      "\"author\": \"Zeeshan Usmani\",     \"transcript\": \"Assa...\n",
      "According to the given information, Pakistan has a population of 219 million people. Out of these, 10 million people are disabled, either handicapped or having some other kind of disability. There are 40 million people who are below 14 years of age, and 10 million people who are above 65 years old. Additionally, there are 86000 Pakistanis who are imprisoned, 11000 Pakistanis who are imprisoned in other countries, 160,000 Pakistanis who are suffering from AIDS, and 17 million people who have Hepatitis B or C. Furthermore, 32 million people in Pakistan have heart diseases, and 37.5 million people are diabetic.\n"
     ]
    }
   ],
   "source": [
    "response = query_engine.query(\"tell me about the people of pakistan?\")\n",
    "pprint_response(response,show_source=True)\n",
    "print(response)"
   ]
  },
  {
   "cell_type": "code",
   "execution_count": null,
   "metadata": {},
   "outputs": [],
   "source": []
  }
 ],
 "metadata": {
  "kernelspec": {
   "display_name": "Python 3",
   "language": "python",
   "name": "python3"
  },
  "language_info": {
   "codemirror_mode": {
    "name": "ipython",
    "version": 3
   },
   "file_extension": ".py",
   "mimetype": "text/x-python",
   "name": "python",
   "nbconvert_exporter": "python",
   "pygments_lexer": "ipython3",
   "version": "3.10.14"
  }
 },
 "nbformat": 4,
 "nbformat_minor": 2
}
