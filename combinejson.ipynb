{
 "cells": [
  {
   "cell_type": "code",
   "execution_count": 3,
   "metadata": {},
   "outputs": [
    {
     "name": "stdout",
     "output_type": "stream",
     "text": [
      "Error decoding JSON from file: youtubetranscript/zeeshanusmani/BookReviewMetaverseمیٹاورسکتابکاتعارفZeeshanUsmani.txt\n",
      "Error decoding JSON from file: youtubetranscript/zeeshanusmani/MetaverseandOculus2UnboxingZeeshanUsmani.txt\n"
     ]
    }
   ],
   "source": [
    "import os\n",
    "import json\n",
    "\n",
    "def combine_json_from_txt_files(folder_path, output_file):\n",
    "    combined_data = []\n",
    "\n",
    "    # Iterate over all files in the folder\n",
    "    for filename in os.listdir(folder_path):\n",
    "        if filename.endswith('.txt'):  # Process only .txt files\n",
    "            file_path = os.path.join(folder_path, filename)\n",
    "            with open(file_path, 'r') as file:\n",
    "                try:\n",
    "                    data = json.load(file)\n",
    "                    combined_data.append(data)\n",
    "                except json.JSONDecodeError:\n",
    "                    print(f\"Error decoding JSON from file: {file_path}\")\n",
    "\n",
    "    # Write combined data to the output file\n",
    "    with open(output_file, 'w', encoding='utf-8') as outfile:\n",
    "        json.dump(combined_data, outfile,ensure_ascii=False, indent=4)\n",
    "\n",
    "# Specify the folder containing JSON files and the output file path\n",
    "folder_path = 'youtubetranscript/zeeshanusmani'\n",
    "output_file = 'youtubetranscript/combined2.json'\n",
    "\n",
    "# Combine JSON files\n",
    "combine_json_from_txt_files(folder_path, output_file)\n"
   ]
  },
  {
   "cell_type": "code",
   "execution_count": 7,
   "metadata": {},
   "outputs": [],
   "source": [
    "import json\n",
    "with open('youtubetranscript/combineraw.json') as file:\n",
    "    json_data = json.load(file)\n",
    "\n",
    "with open('output.txt', 'w', encoding='utf-8') as file:\n",
    "    # Iterate through each dictionary in the list\n",
    "    for entry in json_data:\n",
    "        # Iterate through each key-value pair in the dictionary\n",
    "        for key, value in entry.items():\n",
    "            # Write each key and value to the file\n",
    "            file.write(f\"{key}: {value}\\n\")\n",
    "        # Add a blank line to separate entries\n",
    "        file.write(\"\\n\")"
   ]
  },
  {
   "cell_type": "code",
   "execution_count": 8,
   "metadata": {},
   "outputs": [],
   "source": [
    "\n",
    "with open('youtubetranscript/combineraw.json', 'r') as file:\n",
    "    json_data = json.load(file)\n",
    "    # Extracting the required fields\n",
    "    extracted_data = [\n",
    "        {\n",
    "            \"title\": item['title'],\n",
    "            \"thumbnail_url\": item['thumbnail_url'],\n",
    "            \"publish_date\": item['publish_date']\n",
    "        }\n",
    "        for item in json_data\n",
    "    ]\n",
    "\n",
    "    # Saving the extracted data to a new JSON file\n",
    "    output_file = 'extracted_data.json'\n",
    "    with open(output_file, 'w', encoding='utf-8') as file:\n",
    "        json.dump(extracted_data, file, ensure_ascii=False, indent=4)"
   ]
  },
  {
   "cell_type": "code",
   "execution_count": null,
   "metadata": {},
   "outputs": [],
   "source": []
  }
 ],
 "metadata": {
  "kernelspec": {
   "display_name": "Python 3",
   "language": "python",
   "name": "python3"
  },
  "language_info": {
   "codemirror_mode": {
    "name": "ipython",
    "version": 3
   },
   "file_extension": ".py",
   "mimetype": "text/x-python",
   "name": "python",
   "nbconvert_exporter": "python",
   "pygments_lexer": "ipython3",
   "version": "3.10.14"
  }
 },
 "nbformat": 4,
 "nbformat_minor": 2
}
