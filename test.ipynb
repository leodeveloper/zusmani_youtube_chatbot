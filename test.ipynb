{
 "cells": [
  {
   "cell_type": "code",
   "execution_count": 1,
   "metadata": {},
   "outputs": [
    {
     "name": "stdout",
     "output_type": "stream",
     "text": [
      "ok\n"
     ]
    }
   ],
   "source": [
    "print('ok')"
   ]
  },
  {
   "cell_type": "code",
   "execution_count": 8,
   "metadata": {},
   "outputs": [],
   "source": [
    "import os\n",
    "from llama_index.core import Settings\n",
    "from llama_index.llms.openai import OpenAI\n",
    "from llama_index.core import (\n",
    "    VectorStoreIndex,\n",
    "    SimpleDirectoryReader,\n",
    "    StorageContext,\n",
    "    load_index_from_storage,\n",
    ")\n",
    "from llama_index.core.response.pprint_utils import pprint_response"
   ]
  },
  {
   "cell_type": "code",
   "execution_count": 9,
   "metadata": {},
   "outputs": [
    {
     "data": {
      "text/plain": [
       "True"
      ]
     },
     "execution_count": 9,
     "metadata": {},
     "output_type": "execute_result"
    }
   ],
   "source": [
    "from dotenv import load_dotenv\n",
    "load_dotenv()"
   ]
  },
  {
   "cell_type": "code",
   "execution_count": 17,
   "metadata": {},
   "outputs": [],
   "source": [
    "os.environ['OPENAI_API_KEY']=os.getenv(\"OPENAI_API_KEY\")\n",
    "llm = OpenAI(temperature=0, model=\"gpt-4o\")\n",
    "Settings.llm = llm"
   ]
  },
  {
   "cell_type": "code",
   "execution_count": 18,
   "metadata": {},
   "outputs": [],
   "source": [
    "\n",
    "# check if storage already exists\n",
    "PERSIST_DIR = \"./storage\"\n",
    "if not os.path.exists(PERSIST_DIR):\n",
    "    # load the documents and create the index\n",
    "    documents = SimpleDirectoryReader(\"data\").load_data()\n",
    "    index = VectorStoreIndex.from_documents(documents)\n",
    "    # store it for later\n",
    "    index.storage_context.persist(persist_dir=PERSIST_DIR)\n",
    "else:\n",
    "    # load the existing index\n",
    "    storage_context = StorageContext.from_defaults(persist_dir=PERSIST_DIR)\n",
    "    index = load_index_from_storage(storage_context)"
   ]
  },
  {
   "cell_type": "code",
   "execution_count": 22,
   "metadata": {},
   "outputs": [],
   "source": [
    "import json\n",
    "with open('youtubetranscript/combined.json') as file:\n",
    "    json_data = json.load(file)\n",
    "\n",
    "with open('youtubetranscript/json_schema.json') as file:\n",
    "    json_schema = json.load(file)"
   ]
  },
  {
   "cell_type": "code",
   "execution_count": null,
   "metadata": {},
   "outputs": [],
   "source": [
    "from llama_index.core.indices.struct_store import JSONQueryEngine\n",
    "nl_query = JSONQueryEngine(json_value=json_data, json_schema=json_schema, llm=llm)\n",
    "nl_query.query('How many youtube subscriber of zeeshan usmani yotube channel?')\n",
    "print()\n"
   ]
  },
  {
   "cell_type": "code",
   "execution_count": 19,
   "metadata": {},
   "outputs": [
    {
     "name": "stdout",
     "output_type": "stream",
     "text": [
      "Final Response: Zeeshan Usmani's YouTube channel has more than two\n",
      "million subscribers.\n",
      "______________________________________________________________________\n",
      "Source Node 1/2\n",
      "Node ID: b9601e27-cdf0-4652-a406-b9e7bfb87cf4\n",
      "Similarity: 0.8600318553547128\n",
      "Text: {     \"source\": \"wT6tjKarxRI\",     \"title\": \"2 Million\n",
      "Subscribers | دو ملین سبسکرائبرز کا شکریہ | Zeeshan Usmani\",\n",
      "\"description\": \"Unknown\",     \"view_count\": 8568,     \"thumbnail_url\":\n",
      "\"https://i.ytimg.com/vi/wT6tjKarxRI/hq720.jpg?v=65f4c4d9\",\n",
      "\"publish_date\": \"2024-01-19 00:00:00\",     \"length\": 184,\n",
      "\"author\": \"Zeeshan Usmani\",    ...\n",
      "______________________________________________________________________\n",
      "Source Node 2/2\n",
      "Node ID: 28f5c55d-26f8-4778-abc5-fd79b632ced8\n",
      "Similarity: 0.8031882334383124\n",
      "Text: Well, we will talk about this in detail some other time. Now I\n",
      "just wanted to tell you that let the children be children, pay\n",
      "attention to their health, do the four links that I am giving on top\n",
      "of this and try to do one thing that do not keep the children in front\n",
      "of TV and iPad. If you have given the child 5  If you protect yourself\n",
      "from TV an...\n",
      "Zeeshan Usmani's YouTube channel has more than two million subscribers.\n"
     ]
    }
   ],
   "source": [
    "query_engine = index.as_query_engine()\n",
    "response = query_engine.query(\"How many youtube subscriber of zeeshan usmani yotube channel?\")\n",
    "pprint_response(response,show_source=True)\n",
    "print(response)"
   ]
  },
  {
   "cell_type": "code",
   "execution_count": null,
   "metadata": {},
   "outputs": [],
   "source": []
  }
 ],
 "metadata": {
  "kernelspec": {
   "display_name": "Python 3",
   "language": "python",
   "name": "python3"
  },
  "language_info": {
   "codemirror_mode": {
    "name": "ipython",
    "version": 3
   },
   "file_extension": ".py",
   "mimetype": "text/x-python",
   "name": "python",
   "nbconvert_exporter": "python",
   "pygments_lexer": "ipython3",
   "version": "3.10.0"
  }
 },
 "nbformat": 4,
 "nbformat_minor": 2
}
